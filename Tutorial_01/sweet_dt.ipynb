{
 "cells": [
  {
   "attachments": {},
   "cell_type": "markdown",
   "metadata": {},
   "source": [
    "# Data.table Best Practices"
   ]
  },
  {
   "cell_type": "code",
   "execution_count": 3,
   "metadata": {
    "vscode": {
     "languageId": "r"
    }
   },
   "outputs": [],
   "source": [
    "library(data.table)\n",
    "library(magrittr)\n",
    "library(dplyr)\n",
    "library(knitr)\n",
    "library(ggplot2)"
   ]
  },
  {
   "cell_type": "code",
   "execution_count": 4,
   "metadata": {
    "vscode": {
     "languageId": "r"
    }
   },
   "outputs": [],
   "source": [
    "# read the dataset\n",
    "survey <- fread(\"https://raw.githubusercontent.com/oceanumeric/data-science-go-small/main/Tutorial_01/survey_responses.csv\")"
   ]
  },
  {
   "cell_type": "code",
   "execution_count": 8,
   "metadata": {
    "vscode": {
     "languageId": "r"
    }
   },
   "outputs": [
    {
     "name": "stdout",
     "output_type": "stream",
     "text": [
      "Classes ‘data.table’ and 'data.frame':\t24 obs. of  11 variables:\n",
      " $ Timestamp                                                                                                                                                                                                                                                                      : chr  \"4/19/2023 11:44:37\" \"4/19/2023 11:47:39\" \"4/19/2023 11:59:12\" \"4/19/2023 12:01:02\" ...\n",
      " $ 1. Did you learn the regression model before?                                                                                                                                                                                                                                  : chr  \"No\" \"Yes\" \"Yes\" \"No\" ...\n",
      " $ 2. Which programming language have you tried or used before                                                                                                                                                                                                                    : chr  \"Python\" \"R\" \"R\" \"none\" ...\n",
      " $ 3. Have you taken any statistic courses before, such as learning normal distribution, meaning of p-value, etc?                                                                                                                                                                 : chr  \"Yes\" \"Yes\" \"Yes\" \"No\" ...\n",
      " $ 4. What do you expect to achieve by attending the tutorial?                                                                                                                                                                                                                    : chr  \"Hello world\" \"Na\" \"Establishing more knowledge in statistical analysis\" \"Pass the exam and get the grade and learn some knowledge\" ...\n",
      " $ 5. How many hours do you plan to spend on the tutorial of ININ per week?                                                                                                                                                                                                       : chr  \"2-3 hours per week\" \"1 hour  per week\" \"2-3 hours per week\" \"1 hour  per week\" ...\n",
      " $ 6. What is your goal of taking ININ course?                                                                                                                                                                                                                                    : chr  \"Get a good grade by miniming the cost and effort as a complementary part of my study.\" \"Get a good grade by miniming the cost and effort as a complementary part of my study.\" \"Pass the exam and get the grade and learn some knowledge\" \"Pass the exam and get the grade and learn some knowledge\" ...\n",
      " $ 7. What is your priority rank of taking ININ course in terms of other things to do (such as studing other courses, doing intership, doing sports, ... every day we rank our activities based on priority)? 1 to 10, 1 is the most important things, 10 is the least important. : int  4 5 6 5 3 2 6 7 6 6 ...\n",
      " $ 8. Do you want to build up your own start-up one day?                                                                                                                                                                                                                          : chr  \"Maybe\" \"Maybe\" \"Yes\" \"Maybe\" ...\n",
      " $ 9. Did you try ChatGPT?                                                                                                                                                                                                                                                        : chr  \"Yes\" \"Yes\" \"Yes\" \"No\" ...\n",
      " $ 10. Do you like ChatGPT?                                                                                                                                                                                                                                                       : chr  \"Yes\" \"Yes\" \"Yes\" \"Okay-okay\" ...\n",
      " - attr(*, \".internal.selfref\")=<externalptr> \n"
     ]
    }
   ],
   "source": [
    "# structure of the dataset\n",
    "str(survey)"
   ]
  },
  {
   "cell_type": "code",
   "execution_count": 5,
   "metadata": {
    "vscode": {
     "languageId": "r"
    }
   },
   "outputs": [
    {
     "data": {
      "text/html": [
       "<table class=\"dataframe\">\n",
       "<caption>A data.table: 6 × 11</caption>\n",
       "<thead>\n",
       "\t<tr><th scope=col>Timestamp</th><th scope=col>1. Did you learn the regression model before?</th><th scope=col>2. Which programming language have you tried or used before</th><th scope=col>3. Have you taken any statistic courses before, such as learning normal distribution, meaning of p-value, etc?</th><th scope=col>4. What do you expect to achieve by attending the tutorial?</th><th scope=col>5. How many hours do you plan to spend on the tutorial of ININ per week?</th><th scope=col>6. What is your goal of taking ININ course?</th><th scope=col>7. What is your priority rank of taking ININ course in terms of other things to do (such as studing other courses, doing intership, doing sports, ... every day we rank our activities based on priority)? 1 to 10, 1 is the most important things, 10 is the least important. </th><th scope=col>8. Do you want to build up your own start-up one day?</th><th scope=col>9. Did you try ChatGPT?</th><th scope=col>10. Do you like ChatGPT?</th></tr>\n",
       "\t<tr><th scope=col>&lt;chr&gt;</th><th scope=col>&lt;chr&gt;</th><th scope=col>&lt;chr&gt;</th><th scope=col>&lt;chr&gt;</th><th scope=col>&lt;chr&gt;</th><th scope=col>&lt;chr&gt;</th><th scope=col>&lt;chr&gt;</th><th scope=col>&lt;int&gt;</th><th scope=col>&lt;chr&gt;</th><th scope=col>&lt;chr&gt;</th><th scope=col>&lt;chr&gt;</th></tr>\n",
       "</thead>\n",
       "<tbody>\n",
       "\t<tr><td>4/19/2023 11:44:37</td><td>No </td><td>Python</td><td>Yes</td><td>Hello world                                             </td><td>2-3 hours per week</td><td>Get a good grade by miniming the cost and effort as a complementary part of my study.</td><td>4</td><td>Maybe</td><td>Yes</td><td>Yes      </td></tr>\n",
       "\t<tr><td>4/19/2023 11:47:39</td><td>Yes</td><td>R     </td><td>Yes</td><td>Na                                                      </td><td>1 hour  per week  </td><td>Get a good grade by miniming the cost and effort as a complementary part of my study.</td><td>5</td><td>Maybe</td><td>Yes</td><td>Yes      </td></tr>\n",
       "\t<tr><td>4/19/2023 11:59:12</td><td>Yes</td><td>R     </td><td>Yes</td><td>Establishing more knowledge in statistical analysis     </td><td>2-3 hours per week</td><td>Pass the exam and get the grade and learn some knowledge                             </td><td>6</td><td>Yes  </td><td>Yes</td><td>Yes      </td></tr>\n",
       "\t<tr><td>4/19/2023 12:01:02</td><td>No </td><td>none  </td><td>No </td><td>Pass the exam and get the grade and learn some knowledge</td><td>1 hour  per week  </td><td>Pass the exam and get the grade and learn some knowledge                             </td><td>5</td><td>Maybe</td><td>No </td><td>Okay-okay</td></tr>\n",
       "\t<tr><td>4/19/2023 12:01:51</td><td>Yes</td><td>R     </td><td>Yes</td><td>Refresh my Knowledge                                    </td><td>2-3 hours per week</td><td>Learn some knowledge and gain pratical skills and pass the exam, and get good grade  </td><td>3</td><td>No   </td><td>Yes</td><td>Okay-okay</td></tr>\n",
       "\t<tr><td>4/19/2023 12:02:56</td><td>No </td><td>none  </td><td>No </td><td>Good grade                                              </td><td>1 hour  per week  </td><td>Get a good grade by miniming the cost and effort as a complementary part of my study.</td><td>2</td><td>No   </td><td>Yes</td><td>Yes      </td></tr>\n",
       "</tbody>\n",
       "</table>\n"
      ],
      "text/latex": [
       "A data.table: 6 × 11\n",
       "\\begin{tabular}{lllllllllll}\n",
       " Timestamp & 1. Did you learn the regression model before? & 2. Which programming language have you tried or used before & 3. Have you taken any statistic courses before, such as learning normal distribution, meaning of p-value, etc? & 4. What do you expect to achieve by attending the tutorial? & 5. How many hours do you plan to spend on the tutorial of ININ per week? & 6. What is your goal of taking ININ course? & 7. What is your priority rank of taking ININ course in terms of other things to do (such as studing other courses, doing intership, doing sports, ... every day we rank our activities based on priority)? 1 to 10, 1 is the most important things, 10 is the least important.  & 8. Do you want to build up your own start-up one day? & 9. Did you try ChatGPT? & 10. Do you like ChatGPT?\\\\\n",
       " <chr> & <chr> & <chr> & <chr> & <chr> & <chr> & <chr> & <int> & <chr> & <chr> & <chr>\\\\\n",
       "\\hline\n",
       "\t 4/19/2023 11:44:37 & No  & Python & Yes & Hello world                                              & 2-3 hours per week & Get a good grade by miniming the cost and effort as a complementary part of my study. & 4 & Maybe & Yes & Yes      \\\\\n",
       "\t 4/19/2023 11:47:39 & Yes & R      & Yes & Na                                                       & 1 hour  per week   & Get a good grade by miniming the cost and effort as a complementary part of my study. & 5 & Maybe & Yes & Yes      \\\\\n",
       "\t 4/19/2023 11:59:12 & Yes & R      & Yes & Establishing more knowledge in statistical analysis      & 2-3 hours per week & Pass the exam and get the grade and learn some knowledge                              & 6 & Yes   & Yes & Yes      \\\\\n",
       "\t 4/19/2023 12:01:02 & No  & none   & No  & Pass the exam and get the grade and learn some knowledge & 1 hour  per week   & Pass the exam and get the grade and learn some knowledge                              & 5 & Maybe & No  & Okay-okay\\\\\n",
       "\t 4/19/2023 12:01:51 & Yes & R      & Yes & Refresh my Knowledge                                     & 2-3 hours per week & Learn some knowledge and gain pratical skills and pass the exam, and get good grade   & 3 & No    & Yes & Okay-okay\\\\\n",
       "\t 4/19/2023 12:02:56 & No  & none   & No  & Good grade                                               & 1 hour  per week   & Get a good grade by miniming the cost and effort as a complementary part of my study. & 2 & No    & Yes & Yes      \\\\\n",
       "\\end{tabular}\n"
      ],
      "text/markdown": [
       "\n",
       "A data.table: 6 × 11\n",
       "\n",
       "| Timestamp &lt;chr&gt; | 1. Did you learn the regression model before? &lt;chr&gt; | 2. Which programming language have you tried or used before &lt;chr&gt; | 3. Have you taken any statistic courses before, such as learning normal distribution, meaning of p-value, etc? &lt;chr&gt; | 4. What do you expect to achieve by attending the tutorial? &lt;chr&gt; | 5. How many hours do you plan to spend on the tutorial of ININ per week? &lt;chr&gt; | 6. What is your goal of taking ININ course? &lt;chr&gt; | 7. What is your priority rank of taking ININ course in terms of other things to do (such as studing other courses, doing intership, doing sports, ... every day we rank our activities based on priority)? 1 to 10, 1 is the most important things, 10 is the least important.  &lt;int&gt; | 8. Do you want to build up your own start-up one day? &lt;chr&gt; | 9. Did you try ChatGPT? &lt;chr&gt; | 10. Do you like ChatGPT? &lt;chr&gt; |\n",
       "|---|---|---|---|---|---|---|---|---|---|---|\n",
       "| 4/19/2023 11:44:37 | No  | Python | Yes | Hello world                                              | 2-3 hours per week | Get a good grade by miniming the cost and effort as a complementary part of my study. | 4 | Maybe | Yes | Yes       |\n",
       "| 4/19/2023 11:47:39 | Yes | R      | Yes | Na                                                       | 1 hour  per week   | Get a good grade by miniming the cost and effort as a complementary part of my study. | 5 | Maybe | Yes | Yes       |\n",
       "| 4/19/2023 11:59:12 | Yes | R      | Yes | Establishing more knowledge in statistical analysis      | 2-3 hours per week | Pass the exam and get the grade and learn some knowledge                              | 6 | Yes   | Yes | Yes       |\n",
       "| 4/19/2023 12:01:02 | No  | none   | No  | Pass the exam and get the grade and learn some knowledge | 1 hour  per week   | Pass the exam and get the grade and learn some knowledge                              | 5 | Maybe | No  | Okay-okay |\n",
       "| 4/19/2023 12:01:51 | Yes | R      | Yes | Refresh my Knowledge                                     | 2-3 hours per week | Learn some knowledge and gain pratical skills and pass the exam, and get good grade   | 3 | No    | Yes | Okay-okay |\n",
       "| 4/19/2023 12:02:56 | No  | none   | No  | Good grade                                               | 1 hour  per week   | Get a good grade by miniming the cost and effort as a complementary part of my study. | 2 | No    | Yes | Yes       |\n",
       "\n"
      ],
      "text/plain": [
       "  Timestamp          1. Did you learn the regression model before?\n",
       "1 4/19/2023 11:44:37 No                                           \n",
       "2 4/19/2023 11:47:39 Yes                                          \n",
       "3 4/19/2023 11:59:12 Yes                                          \n",
       "4 4/19/2023 12:01:02 No                                           \n",
       "5 4/19/2023 12:01:51 Yes                                          \n",
       "6 4/19/2023 12:02:56 No                                           \n",
       "  2. Which programming language have you tried or used before\n",
       "1 Python                                                     \n",
       "2 R                                                          \n",
       "3 R                                                          \n",
       "4 none                                                       \n",
       "5 R                                                          \n",
       "6 none                                                       \n",
       "  3. Have you taken any statistic courses before, such as learning normal distribution, meaning of p-value, etc?\n",
       "1 Yes                                                                                                           \n",
       "2 Yes                                                                                                           \n",
       "3 Yes                                                                                                           \n",
       "4 No                                                                                                            \n",
       "5 Yes                                                                                                           \n",
       "6 No                                                                                                            \n",
       "  4. What do you expect to achieve by attending the tutorial?\n",
       "1 Hello world                                                \n",
       "2 Na                                                         \n",
       "3 Establishing more knowledge in statistical analysis        \n",
       "4 Pass the exam and get the grade and learn some knowledge   \n",
       "5 Refresh my Knowledge                                       \n",
       "6 Good grade                                                 \n",
       "  5. How many hours do you plan to spend on the tutorial of ININ per week?\n",
       "1 2-3 hours per week                                                      \n",
       "2 1 hour  per week                                                        \n",
       "3 2-3 hours per week                                                      \n",
       "4 1 hour  per week                                                        \n",
       "5 2-3 hours per week                                                      \n",
       "6 1 hour  per week                                                        \n",
       "  6. What is your goal of taking ININ course?                                          \n",
       "1 Get a good grade by miniming the cost and effort as a complementary part of my study.\n",
       "2 Get a good grade by miniming the cost and effort as a complementary part of my study.\n",
       "3 Pass the exam and get the grade and learn some knowledge                             \n",
       "4 Pass the exam and get the grade and learn some knowledge                             \n",
       "5 Learn some knowledge and gain pratical skills and pass the exam, and get good grade  \n",
       "6 Get a good grade by miniming the cost and effort as a complementary part of my study.\n",
       "  7. What is your priority rank of taking ININ course in terms of other things to do (such as studing other courses, doing intership, doing sports, ... every day we rank our activities based on priority)? 1 to 10, 1 is the most important things, 10 is the least important. \n",
       "1 4                                                                                                                                                                                                                                                                              \n",
       "2 5                                                                                                                                                                                                                                                                              \n",
       "3 6                                                                                                                                                                                                                                                                              \n",
       "4 5                                                                                                                                                                                                                                                                              \n",
       "5 3                                                                                                                                                                                                                                                                              \n",
       "6 2                                                                                                                                                                                                                                                                              \n",
       "  8. Do you want to build up your own start-up one day? 9. Did you try ChatGPT?\n",
       "1 Maybe                                                 Yes                    \n",
       "2 Maybe                                                 Yes                    \n",
       "3 Yes                                                   Yes                    \n",
       "4 Maybe                                                 No                     \n",
       "5 No                                                    Yes                    \n",
       "6 No                                                    Yes                    \n",
       "  10. Do you like ChatGPT?\n",
       "1 Yes                     \n",
       "2 Yes                     \n",
       "3 Yes                     \n",
       "4 Okay-okay               \n",
       "5 Okay-okay               \n",
       "6 Yes                     "
      ]
     },
     "metadata": {},
     "output_type": "display_data"
    }
   ],
   "source": [
    "head(survey)"
   ]
  },
  {
   "cell_type": "code",
   "execution_count": null,
   "metadata": {
    "vscode": {
     "languageId": "r"
    }
   },
   "outputs": [],
   "source": [
    "# change names of the columns\n",
    "survey %>%\n",
    "    "
   ]
  }
 ],
 "metadata": {
  "kernelspec": {
   "display_name": "R",
   "language": "R",
   "name": "ir"
  },
  "language_info": {
   "codemirror_mode": "r",
   "file_extension": ".r",
   "mimetype": "text/x-r-source",
   "name": "R",
   "pygments_lexer": "r",
   "version": "3.6.3"
  },
  "orig_nbformat": 4
 },
 "nbformat": 4,
 "nbformat_minor": 2
}
